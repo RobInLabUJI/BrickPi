{
 "cells": [
  {
   "cell_type": "markdown",
   "metadata": {
    "collapsed": true
   },
   "source": [
    "<img src=\"img/ultrasonic_sensor.jpg\" align=\"right\" width=\"240\">\n",
    "\n",
    "# Sensor de distància\n",
    "\n",
    "El sensor de distància emet ultrasons i detecta l'eco quan el so rebota en un obstacle al davant.\n",
    "\n",
    "Com la velocitat del so és coneguda, el temps transcorregut entre l'emissió i la detecció de l'eco permet calcular la distància a l'objecte que hi ha enfront.\n",
    "\n",
    "Proveu el següent programa, comprovant els valors que dona el sensor (per a parar-lo, polseu el sensor de tacte)."
   ]
  },
  {
   "cell_type": "code",
   "execution_count": null,
   "metadata": {
    "collapsed": false
   },
   "outputs": [],
   "source": [
    "from IPython.display import clear_output\n",
    "\n",
    "from BrickPiModule import BrickPiRobot\n",
    "robot = BrickPiRobot()"
   ]
  },
  {
   "cell_type": "code",
   "execution_count": null,
   "metadata": {
    "collapsed": true
   },
   "outputs": [],
   "source": [
    "while robot.tacte()==0:\n",
    "    clear_output(wait=True)\n",
    "    print(robot.distancia())"
   ]
  },
  {
   "cell_type": "markdown",
   "metadata": {},
   "source": [
    "El sensor torna el valor en **centímetres**.\n",
    "\n",
    "Si no es detecta res, el resultat és 255."
   ]
  },
  {
   "cell_type": "markdown",
   "metadata": {},
   "source": [
    "### Exercici: parar quan es detecta un obstacle\n",
    "\n",
    "Feu un programa per a moure el robot cap avant, i parar-lo quan detecte un obstacle a menys de 20 cm.\n",
    "\n",
    "Pista: recordeu el programa que parava quan detectava una línia negra. "
   ]
  },
  {
   "cell_type": "code",
   "execution_count": null,
   "metadata": {
    "collapsed": true
   },
   "outputs": [],
   "source": [
    "# anar cap avant\n",
    "\n",
    "# mentres la distància siga major que 20\n",
    "#     passar\n",
    "\n",
    "# parar el robot"
   ]
  },
  {
   "cell_type": "markdown",
   "metadata": {},
   "source": [
    "<a href=\"https://youtube.com/shorts/6vNjRKkvOHM\" target=\"_blank\"><img src=\"img/esquivant.png\" align=\"right\" width=\"240\"></a>\n",
    "\n",
    "### Exercici pro: el robot que esquiva obstacles\n",
    "\n",
    "Feu un programa com el del robot encerclat, canviant la detecció de línia per la detecció d'obstacles."
   ]
  },
  {
   "cell_type": "code",
   "execution_count": null,
   "metadata": {
    "collapsed": true
   },
   "outputs": [],
   "source": [
    "# mentres no es polse el sensor de tacte\n",
    "#     anar cap avant\n",
    "\n",
    "#     mentres la distància siga major que 20\n",
    "#         passar\n",
    "#     girar durant un segon\n",
    "\n",
    "# parar el robot"
   ]
  },
  {
   "cell_type": "markdown",
   "metadata": {},
   "source": [
    "<img src=\"img/flip-coin.jpg\" align=\"right\" width=\"180\">\n",
    "\n",
    "### Exercici super pro: el robot que esquiva obstacles girant a esquerra i dreta\n",
    "\n",
    "Fins ara el robot sempre gira cap al mateix costat.\n",
    "\n",
    "Anem a vore com es pot fer que gira a un costat o l'altre.\n",
    "\n",
    "Per a això necessitem instruccions noves.\n",
    "\n",
    "La instrucció `random.choice` permet triar aleatòriament entre vàries opcions.\n",
    "\n",
    "Si tenim dos opcions, tornarà una d'elles amb el 50% de probabilitat.\n",
    "\n",
    "Proveu a executar-la vàries vegades."
   ]
  },
  {
   "cell_type": "code",
   "execution_count": null,
   "metadata": {
    "collapsed": true
   },
   "outputs": [],
   "source": [
    "import random"
   ]
  },
  {
   "cell_type": "code",
   "execution_count": null,
   "metadata": {
    "collapsed": false
   },
   "outputs": [],
   "source": [
    "random.choice(['cara','creu'])"
   ]
  },
  {
   "cell_type": "markdown",
   "metadata": {},
   "source": [
    "Per a fer un gir o un altre segons l'opció, utilitzareu la instrucció `if / else`.\n",
    "\n",
    "És molt semblant a `while`, però sense repeticions, només es comprova la condició una vegada.\n",
    "\n",
    "Si és verdadera es fa una cosa, i si és falsa una altra.\n",
    "\n",
    "Proveu vàries vegades el següent codi:"
   ]
  },
  {
   "cell_type": "code",
   "execution_count": null,
   "metadata": {
    "collapsed": false
   },
   "outputs": [],
   "source": [
    "if random.choice(['cara','creu'])=='cara':\n",
    "    robot.esquerra()\n",
    "else:\n",
    "    robot.dreta()\n",
    "robot.pausa(1)\n",
    "robot.para()"
   ]
  },
  {
   "cell_type": "code",
   "execution_count": null,
   "metadata": {
    "collapsed": true
   },
   "outputs": [],
   "source": []
  }
 ],
 "metadata": {
  "kernelspec": {
   "display_name": "Python 3",
   "language": "python",
   "name": "python3"
  },
  "language_info": {
   "codemirror_mode": {
    "name": "ipython",
    "version": 3
   },
   "file_extension": ".py",
   "mimetype": "text/x-python",
   "name": "python",
   "nbconvert_exporter": "python",
   "pygments_lexer": "ipython3",
   "version": "3.5.3"
  }
 },
 "nbformat": 4,
 "nbformat_minor": 2
}
