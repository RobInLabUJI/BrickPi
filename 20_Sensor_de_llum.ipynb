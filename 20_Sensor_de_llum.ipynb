{
 "cells": [
  {
   "cell_type": "markdown",
   "metadata": {},
   "source": [
    "<img src=\"img/light_sensor.png\" align=\"right\" width=\"240\">\n",
    "\n",
    "# Sensor de llum\n",
    "\n",
    "El sensor de llum té un LED que emet llum roja i un diode que mesura la quantitat reflectida per la superfície.\n",
    "\n",
    "Per exemple, dona valors diferents per al blanc i negre.\n",
    "\n",
    "També permet diferenciar si la llum es reflexa a la taula o no, quan el robot està prop de la vora.\n",
    "\n",
    "Proveu el següent programa, comprovant els valors que dona el sensor (per a parar-lo, polseu el sensor de tacte)."
   ]
  },
  {
   "cell_type": "code",
   "execution_count": null,
   "metadata": {
    "collapsed": true
   },
   "outputs": [],
   "source": [
    "from IPython.display import clear_output\n",
    "\n",
    "from BrickPiModule import BrickPiRobot\n",
    "robot = BrickPiRobot()"
   ]
  },
  {
   "cell_type": "code",
   "execution_count": null,
   "metadata": {
    "collapsed": false
   },
   "outputs": [],
   "source": [
    "while robot.tacte()==0:\n",
    "    clear_output(wait=True)\n",
    "    print(robot.llum())"
   ]
  },
  {
   "cell_type": "markdown",
   "metadata": {},
   "source": [
    "Els valors de blanc i negre són diferents, no?\n",
    "\n",
    "Recordeu-los per a fer el següent programa."
   ]
  },
  {
   "cell_type": "markdown",
   "metadata": {},
   "source": [
    "### Exercici: parar a la línia\n",
    "\n",
    "Feu un programa per a moure el robot cap avant, i parar-lo quan toque una línia negra.\n",
    "\n",
    "Pista: recordeu el primer programa del ventilador; ara la condició usarà el sensor de llum comparant-lo amb els valors que heu trobat abans."
   ]
  },
  {
   "cell_type": "code",
   "execution_count": null,
   "metadata": {
    "collapsed": false
   },
   "outputs": [],
   "source": [
    "# anar cap avant\n",
    "\n",
    "# mentres la llum detecte blanc\n",
    "#     passar\n",
    "\n",
    "# parar el robot"
   ]
  },
  {
   "cell_type": "markdown",
   "metadata": {},
   "source": [
    "<a href=\"https://youtube.com/shorts/6WhgYcfHxQ4\" target=\"_blank\"><img src=\"img/encerclat.png\" align=\"right\" width=\"240\"></a>\n",
    "\n",
    "### Exercici pro: el robot encerclat\n",
    "\n",
    "El següent programa afegirà a l'anterior un gir d'un segon després de detectar la línia.\n",
    "\n",
    "I repetirà els moviments (avançar, parar a la línia, girar) mentres no es polse el sensor de tacte.\n",
    "\n",
    "Col·loqueu el robot dins de la pista, encerclat per la línia negra i proveu-lo."
   ]
  },
  {
   "cell_type": "code",
   "execution_count": null,
   "metadata": {
    "collapsed": false
   },
   "outputs": [],
   "source": [
    "# mentres no es polse el sensor de tacte\n",
    "#     anar cap avant\n",
    "\n",
    "#     mentres la llum detecte blanc\n",
    "#         passar\n",
    "#     girar durant un segon\n",
    "\n",
    "# parar el robot"
   ]
  },
  {
   "cell_type": "markdown",
   "metadata": {},
   "source": [
    "**Coses que passen**: el color verd és més fosc que el blanc, aleshores el robot es pensa que és la línia negra i també gira. El sensor de llum no és capaç d'afinar tant com per a distingir-lo."
   ]
  },
  {
   "cell_type": "markdown",
   "metadata": {},
   "source": [
    "Vos ha semblat complicat? O no tant?\n",
    "\n",
    "Programar és com fer trenclaclosques, cal trobar l'encaix de totes les peces.\n",
    "\n",
    "Vegem a continuació un <a href=\"30_Sensor_de_distancia.ipynb\">altre sensor</a>."
   ]
  },
  {
   "cell_type": "markdown",
   "metadata": {
    "collapsed": true
   },
   "source": [
    "<hr>\n",
    "<center>\n",
    "    <p><a href=\"http://www.uji.es\"><img alt=\"Universitat Jaume I\" src=\"img/uji_logo.png\" /></a></p>\n",
    "    <p><a rel=\"license\" href=\"http://creativecommons.org/licenses/by-sa/4.0/\"><img alt=\"Creative Commons License\" style=\"border-width:0\" src=\"https://i.creativecommons.org/l/by-sa/4.0/88x31.png\" /></a><br />This work is licensed under a <a rel=\"license\" href=\"http://creativecommons.org/licenses/by-sa/4.0/\">Creative Commons Attribution-ShareAlike 4.0 International License</a>.</p>\n",
    "</center>"
   ]
  }
 ],
 "metadata": {
  "kernelspec": {
   "display_name": "Python 3",
   "language": "python",
   "name": "python3"
  },
  "language_info": {
   "codemirror_mode": {
    "name": "ipython",
    "version": 3
   },
   "file_extension": ".py",
   "mimetype": "text/x-python",
   "name": "python",
   "nbconvert_exporter": "python",
   "pygments_lexer": "ipython3",
   "version": "3.5.3"
  }
 },
 "nbformat": 4,
 "nbformat_minor": 2
}
