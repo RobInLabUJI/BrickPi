{
 "cells": [
  {
   "cell_type": "markdown",
   "metadata": {},
   "source": [
    "<img src=\"img/camera.jpg\" align=\"right\" width=\"240\">\n",
    "\n",
    "# Visió robòtica\n",
    "\n",
    "El robot disposa d'una càmera per a captar imatges.\n",
    "\n",
    "Per a utilitzar-la cal seguir estos passos:\n",
    "1. Activar la càmera\n",
    "2. Capturar les imatges\n",
    "3. Desactivar la càmera\n",
    "\n",
    "Vegeu l'exemple a continuació."
   ]
  },
  {
   "cell_type": "markdown",
   "metadata": {},
   "source": [
    "### Inicialització"
   ]
  },
  {
   "cell_type": "code",
   "execution_count": null,
   "metadata": {
    "collapsed": true
   },
   "outputs": [],
   "source": [
    "%matplotlib inline\n",
    "from matplotlib.pyplot import imshow\n",
    "\n",
    "from BrickPiModule import BrickPiRobot\n",
    "robot = BrickPiRobot()"
   ]
  },
  {
   "cell_type": "markdown",
   "metadata": {
    "collapsed": true
   },
   "source": [
    "### 1. Activar la càmera"
   ]
  },
  {
   "cell_type": "code",
   "execution_count": null,
   "metadata": {},
   "outputs": [],
   "source": [
    "robot.camera_on()"
   ]
  },
  {
   "cell_type": "markdown",
   "metadata": {},
   "source": [
    "### 2. Captura d'imatges\n",
    "\n",
    "Aquest pas el podeu repetir vàries vegades per a obtindre diferents imatges.\n",
    "\n",
    "Tingueu en compte que el procés de capturar la imatge, enviar-la a l'ordinador, i visualitzar-la costa uns segons."
   ]
  },
  {
   "cell_type": "code",
   "execution_count": null,
   "metadata": {},
   "outputs": [],
   "source": [
    "imshow( robot.imatge() );"
   ]
  },
  {
   "cell_type": "markdown",
   "metadata": {},
   "source": [
    "### 3. Desactivar la càmera\n",
    "\n",
    "És important desactivar la càmera abans de passar al següent exercici."
   ]
  },
  {
   "cell_type": "code",
   "execution_count": null,
   "metadata": {
    "collapsed": true
   },
   "outputs": [],
   "source": [
    "robot.camera_off()"
   ]
  },
  {
   "cell_type": "markdown",
   "metadata": {},
   "source": [
    "A continuació veurem com usar la càmera per a <a href=\"51_Foc.ipynb\">detectar un incendi</a>."
   ]
  },
  {
   "cell_type": "markdown",
   "metadata": {
    "collapsed": true
   },
   "source": [
    "<hr>\n",
    "<center>\n",
    "    <p><a href=\"http://www.uji.es\"><img alt=\"Universitat Jaume I\" src=\"img/uji_logo.png\" /></a></p>\n",
    "    <p><a rel=\"license\" href=\"http://creativecommons.org/licenses/by-sa/4.0/\"><img alt=\"Creative Commons License\" style=\"border-width:0\" src=\"https://i.creativecommons.org/l/by-sa/4.0/88x31.png\" /></a><br />This work is licensed under a <a rel=\"license\" href=\"http://creativecommons.org/licenses/by-sa/4.0/\">Creative Commons Attribution-ShareAlike 4.0 International License</a>.</p>\n",
    "</center>"
   ]
  }
 ],
 "metadata": {
  "kernelspec": {
   "display_name": "Python 3 (ipykernel)",
   "language": "python",
   "name": "python3"
  },
  "language_info": {
   "codemirror_mode": {
    "name": "ipython",
    "version": 3
   },
   "file_extension": ".py",
   "mimetype": "text/x-python",
   "name": "python",
   "nbconvert_exporter": "python",
   "pygments_lexer": "ipython3",
   "version": "3.8.10"
  }
 },
 "nbformat": 4,
 "nbformat_minor": 2
}
