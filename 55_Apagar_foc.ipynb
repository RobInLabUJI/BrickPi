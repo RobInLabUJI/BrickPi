{
 "cells": [
  {
   "cell_type": "markdown",
   "metadata": {},
   "source": [
    "# Repte: apagar el foc\n",
    "\n",
    "Per a apagar el foc, el robot ha de:\n",
    "* orientar-se cap a la flama, \n",
    "* aproximar-se,\n",
    "* encendre el ventilador\n",
    "\n",
    "Col·loqueu el robot una mica allunyat del foc, mirant cap a un costat de la flama, a la dreta.\n",
    "\n",
    "En primer lloc s'inicialitza el robot i la càmera."
   ]
  },
  {
   "cell_type": "code",
   "execution_count": null,
   "metadata": {
    "collapsed": true
   },
   "outputs": [],
   "source": [
    "from BrickPiModule import BrickPiRobot\n",
    "robot = BrickPiRobot()"
   ]
  },
  {
   "cell_type": "code",
   "execution_count": null,
   "metadata": {
    "collapsed": true
   },
   "outputs": [],
   "source": [
    "robot.camera_on()\n",
    "x,y,w,h = robot.detecta_foc(robot.imatge())"
   ]
  },
  {
   "cell_type": "markdown",
   "metadata": {},
   "source": [
    "A continuació es fan els moviments del robot per a orientar-se cap a la flama i aproximar-se, i quan ja està aprop s'encén el ventilador."
   ]
  },
  {
   "cell_type": "code",
   "execution_count": null,
   "metadata": {},
   "outputs": [],
   "source": [
    "while x>120:\n",
    "    robot.dreta()\n",
    "    x,y,w,h = robot.detecta_foc(robot.imatge())\n",
    "robot.para()\n",
    "\n",
    "while w<30:\n",
    "    robot.avant()\n",
    "    x,y,w,h = robot.detecta_foc(robot.imatge())\n",
    "robot.para()\n",
    "\n",
    "robot.ventilador_on()\n",
    "robot.pausa(3)\n",
    "robot.ventilador_off()"
   ]
  },
  {
   "cell_type": "markdown",
   "metadata": {},
   "source": [
    "Si el foc no s'apaga, proveu amb diferents valors de `x` i `w` per a controlar el gir i l'aproximació del robot."
   ]
  },
  {
   "cell_type": "code",
   "execution_count": null,
   "metadata": {},
   "outputs": [],
   "source": [
    "robot_camera_off()"
   ]
  },
  {
   "cell_type": "markdown",
   "metadata": {},
   "source": [
    "S'ha apagat? Enhorabona!\n",
    "\n",
    "Ací s'acaba el taller, esperem que vos haja agradat!"
   ]
  },
  {
   "cell_type": "markdown",
   "metadata": {},
   "source": [
    "<hr>\n",
    "<center>\n",
    "    <p><a href=\"http://www.uji.es\"><img alt=\"Universitat Jaume I\" src=\"img/uji_logo.png\" /></a></p>\n",
    "    <p><a rel=\"license\" href=\"http://creativecommons.org/licenses/by-sa/4.0/\"><img alt=\"Creative Commons License\" style=\"border-width:0\" src=\"https://i.creativecommons.org/l/by-sa/4.0/88x31.png\" /></a><br />This work is licensed under a <a rel=\"license\" href=\"http://creativecommons.org/licenses/by-sa/4.0/\">Creative Commons Attribution-ShareAlike 4.0 International License</a>.</p>\n",
    "</center>"
   ]
  }
 ],
 "metadata": {
  "kernelspec": {
   "display_name": "Python 3 (ipykernel)",
   "language": "python",
   "name": "python3"
  },
  "language_info": {
   "codemirror_mode": {
    "name": "ipython",
    "version": 3
   },
   "file_extension": ".py",
   "mimetype": "text/x-python",
   "name": "python",
   "nbconvert_exporter": "python",
   "pygments_lexer": "ipython3",
   "version": "3.8.10"
  }
 },
 "nbformat": 4,
 "nbformat_minor": 2
}
