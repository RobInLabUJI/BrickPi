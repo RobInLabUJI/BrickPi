{
 "cells": [
  {
   "cell_type": "markdown",
   "metadata": {},
   "source": [
    "<img src=\"img/touch_sensor.jpg\" align=\"right\" width=\"240\">\n",
    "\n",
    "# Sensor de tacte\n",
    "\n",
    "El sensor de tacte és un pulsador que donarà:\n",
    "* zero si no està polsat\n",
    "* un si ho està\n",
    "\n",
    "S'utilitza aquesta funció per a saber quin valor té:\n",
    "```\n",
    "robot.tacte()\n",
    "```\n",
    "Anem a provar-ho, inicialitzeu primer el robot:"
   ]
  },
  {
   "cell_type": "code",
   "execution_count": null,
   "metadata": {
    "collapsed": true
   },
   "outputs": [],
   "source": [
    "from BrickPiModule import BrickPiRobot\n",
    "robot = BrickPiRobot()"
   ]
  },
  {
   "cell_type": "markdown",
   "metadata": {},
   "source": [
    "Ara executeu la següent instrucció vàries vegades, algunes pulsant el sensor i altres sense pulsar-lo:"
   ]
  },
  {
   "cell_type": "code",
   "execution_count": null,
   "metadata": {
    "collapsed": false
   },
   "outputs": [],
   "source": [
    "robot.tacte()"
   ]
  },
  {
   "cell_type": "markdown",
   "metadata": {},
   "source": [
    "Va bé? Si dona sempre zero o un, potser que el sensor no funcione o el cable estiga desconnectat."
   ]
  },
  {
   "cell_type": "markdown",
   "metadata": {},
   "source": [
    "<img src=\"img/while_loop.jpg\" align=\"right\" width=\"160\">\n",
    "\n",
    "### Bucle condicional\n",
    "\n",
    "Anem a provar un programa per a posar en marxa el ventilador i apagar-lo polsant el sensor.\n",
    "\n",
    "Tindrà tres parts:\n",
    "1. Encendre el ventilador\n",
    "2. Esperar mentre no es polse el sensor\n",
    "3. Apagar el ventilador"
   ]
  },
  {
   "cell_type": "code",
   "execution_count": null,
   "metadata": {
    "collapsed": false
   },
   "outputs": [],
   "source": [
    "robot.ventilador_on()\n",
    "\n",
    "while robot.tacte()==0:\n",
    "    pass\n",
    "    \n",
    "robot.ventilador_off()"
   ]
  },
  {
   "cell_type": "markdown",
   "metadata": {
    "collapsed": true
   },
   "source": [
    "La instrucció `while` és un bucle que comprova una condició, en aquest cas si el sensor no està pulsat.\n",
    "\n",
    "Mentre la condició siga verdadera, es repetirà la instrucció de dins del bucle (en aquest programa, és una instrucció `pass` que no fa res)."
   ]
  },
  {
   "cell_type": "markdown",
   "metadata": {},
   "source": [
    "### Exercici: encendre i apagar el ventilador\n",
    "\n",
    "Feu un programa que encenga el ventilador polsant el sensor, i no l'apague fins que es torne a polsar el sensor.\n",
    "\n",
    "Pista: necessitareu dos instruccions `while`, \n",
    "* la primera per a esperar a que se polse el sensor per a encendre el ventilador\n",
    "* la segona per a esperar a que se torne a polsar per a apagar-lo\n",
    "\n",
    "Vos donem baix l'esquelet del programa, heu de posar les instruccions que falten als punts."
   ]
  },
  {
   "cell_type": "code",
   "execution_count": null,
   "metadata": {
    "collapsed": true
   },
   "outputs": [],
   "source": [
    "while ...\n",
    "    pass\n",
    "\n",
    "...\n",
    "\n",
    "while ...\n",
    "    pass\n",
    "\n",
    "..."
   ]
  },
  {
   "cell_type": "markdown",
   "metadata": {},
   "source": [
    "Alguna dificultat? Pregunteu els mestres!!!"
   ]
  },
  {
   "cell_type": "markdown",
   "metadata": {},
   "source": [
    "Tot correcte? Molt bé, ara passarem al <a href=\"20_Sensor_de_llum.ipynb\">següent sensor</a>."
   ]
  },
  {
   "cell_type": "markdown",
   "metadata": {},
   "source": [
    "<hr>\n",
    "<center>\n",
    "    <p><a href=\"http://www.uji.es\"><img alt=\"Universitat Jaume I\" src=\"img/uji_logo.png\" /></a></p>\n",
    "    <p><a rel=\"license\" href=\"http://creativecommons.org/licenses/by-sa/4.0/\"><img alt=\"Creative Commons License\" style=\"border-width:0\" src=\"https://i.creativecommons.org/l/by-sa/4.0/88x31.png\" /></a><br />This work is licensed under a <a rel=\"license\" href=\"http://creativecommons.org/licenses/by-sa/4.0/\">Creative Commons Attribution-ShareAlike 4.0 International License</a>.</p>\n",
    "</center>"
   ]
  }
 ],
 "metadata": {
  "kernelspec": {
   "display_name": "Python 3",
   "language": "python",
   "name": "python3"
  },
  "language_info": {
   "codemirror_mode": {
    "name": "ipython",
    "version": 3
   },
   "file_extension": ".py",
   "mimetype": "text/x-python",
   "name": "python",
   "nbconvert_exporter": "python",
   "pygments_lexer": "ipython3",
   "version": "3.5.3"
  }
 },
 "nbformat": 4,
 "nbformat_minor": 2
}
