{
 "cells": [
  {
   "cell_type": "markdown",
   "metadata": {},
   "source": [
    "<a href=\"https://youtube.com/shorts/BTKSctQrmsw\" target=\"_blank\"><img src=\"img/seguir_linia.png\" align=\"right\" width=\"240\"></a>\n",
    "\n",
    "# Repte: seguir una línia\n",
    "\n",
    "Ja coneixeu les instruccions per a moure el robot, i per a llegir els valors dels sensors.\n",
    "\n",
    "També heu utilitzat les instruccions de Python per a bucles `for` i `while`.\n",
    "\n",
    "I en l'últim exemple heu provat la instrucció condicional `if / else`.\n",
    "\n",
    "Tots els llenguatges de programació tenen eixes instruccions, que són imprescindibles en molts programes.\n",
    "\n",
    "Ara vos proposem un repte: heu de programar el robot per a seguir una línia negra usant el sensor de llum.\n",
    "\n",
    "Vegeu baix l'esquelet del programa.\n",
    "\n",
    "Ànim!!!"
   ]
  },
  {
   "cell_type": "code",
   "execution_count": null,
   "metadata": {
    "collapsed": true
   },
   "outputs": [],
   "source": [
    "# inicialització"
   ]
  },
  {
   "cell_type": "code",
   "execution_count": null,
   "metadata": {
    "collapsed": true
   },
   "outputs": [],
   "source": [
    "# mentres no es polse el sensor de tacte \n",
    "#    si el sensor de llum és blanc\n",
    "#        anar cap avant\n",
    "#    si no\n",
    "#        girar\n",
    "# parar"
   ]
  },
  {
   "cell_type": "markdown",
   "metadata": {
    "collapsed": true
   },
   "source": [
    "Funciona? Enhorabona!\n",
    "\n",
    "Per a acabar el taller passarem a vore com funciona la <a href=\"50_Camera.ipynb\">càmera del robot</a>."
   ]
  },
  {
   "cell_type": "markdown",
   "metadata": {
    "collapsed": true
   },
   "source": [
    "<hr>\n",
    "<center>\n",
    "    <p><a href=\"http://www.uji.es\"><img alt=\"Universitat Jaume I\" src=\"img/uji_logo.png\" /></a></p>\n",
    "    <p><a rel=\"license\" href=\"http://creativecommons.org/licenses/by-sa/4.0/\"><img alt=\"Creative Commons License\" style=\"border-width:0\" src=\"https://i.creativecommons.org/l/by-sa/4.0/88x31.png\" /></a><br />This work is licensed under a <a rel=\"license\" href=\"http://creativecommons.org/licenses/by-sa/4.0/\">Creative Commons Attribution-ShareAlike 4.0 International License</a>.</p>\n",
    "</center>"
   ]
  }
 ],
 "metadata": {
  "kernelspec": {
   "display_name": "Python 3",
   "language": "python",
   "name": "python3"
  },
  "language_info": {
   "codemirror_mode": {
    "name": "ipython",
    "version": 3
   },
   "file_extension": ".py",
   "mimetype": "text/x-python",
   "name": "python",
   "nbconvert_exporter": "python",
   "pygments_lexer": "ipython3",
   "version": "3.5.3"
  }
 },
 "nbformat": 4,
 "nbformat_minor": 2
}
