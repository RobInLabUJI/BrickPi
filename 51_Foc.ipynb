{
 "cells": [
  {
   "cell_type": "markdown",
   "metadata": {},
   "source": [
    "# Detecció del foc\n",
    "\n",
    "Els ordinadors analitzen les imatges per a trobar objectes. Per exemple, les càmares de fotos poden detectar les cares de la gent. També hi ha cotxes amb càmares que detecten els senyals de tràfic.\n",
    "\n",
    "Anem a vore com detectar el foc amb el robot.\n",
    "\n",
    "Les instruccions de baix són les mateixes per a activar la càmera i obtindre una imatge.\n",
    "\n",
    "Però la imatge és analitzada per la funció `robot.detecta_foc` que torna la posició del foc, si el detecta, o no res si no el detecta.\n",
    "\n",
    "Proveu el programa posant la columna del foc davant del robot per a comprovar si la detecta correctament (**no és necessari** que el foc estiga encés).\n",
    "\n",
    "Els valors calculats són:\n",
    "* `(x,y)` és la posició del foc\n",
    "* `w` és l'amplària\n",
    "* `h` és l'alçada\n",
    "\n",
    "Com més a prop estiga el robot del foc, més gran es vorà a la imatge."
   ]
  },
  {
   "cell_type": "code",
   "execution_count": null,
   "metadata": {},
   "outputs": [],
   "source": [
    "%matplotlib inline\n",
    "from matplotlib.pyplot import imshow, plot, gca\n",
    "from matplotlib.patches import Ellipse\n",
    "\n",
    "from BrickPiModule import BrickPiRobot\n",
    "robot = BrickPiRobot()"
   ]
  },
  {
   "cell_type": "code",
   "execution_count": null,
   "metadata": {},
   "outputs": [],
   "source": [
    "robot.camera_on()"
   ]
  },
  {
   "cell_type": "code",
   "execution_count": null,
   "metadata": {},
   "outputs": [],
   "source": [
    "imatge = robot.imatge()"
   ]
  },
  {
   "cell_type": "code",
   "execution_count": null,
   "metadata": {},
   "outputs": [],
   "source": [
    "imshow(imatge);\n",
    "x,y,w,h = robot.detecta_foc(imatge)\n",
    "if x:\n",
    "    print('Foc detectat: (x,y)=(%d,%d), w=%d, h=%d ' % (x,y,w,h))\n",
    "    #plot([x-w/2,x+w/2,x+w/2,x-w/2,x-w/2],[y-h/2,y-h/2,y+h/2,y+h/2,y-h/2],'y-')\n",
    "    gca().add_patch(Ellipse((x,y),w,h))\n",
    "else:\n",
    "    print('Foc no detectat')"
   ]
  },
  {
   "cell_type": "code",
   "execution_count": null,
   "metadata": {},
   "outputs": [],
   "source": [
    "robot.camera_off()"
   ]
  },
  {
   "cell_type": "markdown",
   "metadata": {},
   "source": [
    "Si el robot no pot detectar el foc, aviseu els mestres.\n",
    "\n",
    "Un cop detectat, podeu passar a l'últim repte que consisteix en <a href=\"55_Apagar_foc.ipynb\">apagar el foc</a>."
   ]
  },
  {
   "cell_type": "markdown",
   "metadata": {
    "collapsed": true
   },
   "source": [
    "<hr>\n",
    "<center>\n",
    "    <p><a href=\"http://www.uji.es\"><img alt=\"Universitat Jaume I\" src=\"img/uji_logo.png\" /></a></p>\n",
    "    <p><a rel=\"license\" href=\"http://creativecommons.org/licenses/by-sa/4.0/\"><img alt=\"Creative Commons License\" style=\"border-width:0\" src=\"https://i.creativecommons.org/l/by-sa/4.0/88x31.png\" /></a><br />This work is licensed under a <a rel=\"license\" href=\"http://creativecommons.org/licenses/by-sa/4.0/\">Creative Commons Attribution-ShareAlike 4.0 International License</a>.</p>\n",
    "</center>"
   ]
  }
 ],
 "metadata": {
  "kernelspec": {
   "display_name": "Python 3 (ipykernel)",
   "language": "python",
   "name": "python3"
  },
  "language_info": {
   "codemirror_mode": {
    "name": "ipython",
    "version": 3
   },
   "file_extension": ".py",
   "mimetype": "text/x-python",
   "name": "python",
   "nbconvert_exporter": "python",
   "pygments_lexer": "ipython3",
   "version": "3.8.10"
  }
 },
 "nbformat": 4,
 "nbformat_minor": 2
}
